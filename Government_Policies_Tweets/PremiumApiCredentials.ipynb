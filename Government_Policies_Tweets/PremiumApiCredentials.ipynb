{
 "cells": [
  {
   "cell_type": "code",
   "execution_count": 4,
   "metadata": {},
   "outputs": [],
   "source": [
    "import yaml\n",
    "\n",
    "config = dict(\n",
    "    search_tweets_api = dict(\n",
    "        account_type = 'premium',\n",
    "        endpoint = 'https://api.twitter.com/1.1/tweets/search/fullarchive/HG.json',\n",
    "        consumer_key = '',\n",
    "        consumer_secret = ''\n",
    "    )\n",
    ")\n",
    "\n",
    "with open('twitter_keys_fullarchive.yaml', 'w') as config_file:\n",
    "    yaml.dump(config, config_file, default_flow_style=False)"
   ]
  },
  {
   "cell_type": "code",
   "execution_count": null,
   "metadata": {},
   "outputs": [],
   "source": []
  }
 ],
 "metadata": {
  "kernelspec": {
   "display_name": "Python 3",
   "language": "python",
   "name": "python3"
  },
  "language_info": {
   "codemirror_mode": {
    "name": "ipython",
    "version": 3
   },
   "file_extension": ".py",
   "mimetype": "text/x-python",
   "name": "python",
   "nbconvert_exporter": "python",
   "pygments_lexer": "ipython3",
   "version": "3.7.5"
  }
 },
 "nbformat": 4,
 "nbformat_minor": 2
}
