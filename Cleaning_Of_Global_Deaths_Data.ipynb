{
 "cells": [
  {
   "cell_type": "code",
   "execution_count": null,
   "metadata": {},
   "outputs": [],
   "source": []
  },
  {
   "cell_type": "code",
   "execution_count": 12,
   "metadata": {},
   "outputs": [],
   "source": [
    "import pandas as pd\n",
    "\n",
    "globalDeathsCSV = pd.read_csv(\"time_series_covid19_deaths_global.csv\")\n",
    "\n",
    "removeColumns = globalDeathsCSV.drop(['Province/State', 'Lat', 'Long'], axis=1)\n",
    "\n",
    "allCountriesFinalData = removeColumns.groupby(['Country/Region'], as_index=False).agg('sum')\n",
    "\n",
    "allCountriesFinalData.to_csv (r'global_deaths.csv', index = True, header=True)"
   ]
  },
  {
   "cell_type": "code",
   "execution_count": null,
   "metadata": {},
   "outputs": [],
   "source": []
  }
 ],
 "metadata": {
  "kernelspec": {
   "display_name": "Python 3",
   "language": "python",
   "name": "python3"
  },
  "language_info": {
   "codemirror_mode": {
    "name": "ipython",
    "version": 3
   },
   "file_extension": ".py",
   "mimetype": "text/x-python",
   "name": "python",
   "nbconvert_exporter": "python",
   "pygments_lexer": "ipython3",
   "version": "3.7.5"
  }
 },
 "nbformat": 4,
 "nbformat_minor": 2
}
