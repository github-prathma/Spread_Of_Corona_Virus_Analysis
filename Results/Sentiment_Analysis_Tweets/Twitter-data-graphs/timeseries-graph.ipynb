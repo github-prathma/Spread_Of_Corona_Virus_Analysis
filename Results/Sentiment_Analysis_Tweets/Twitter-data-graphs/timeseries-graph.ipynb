{
 "cells": [
  {
   "cell_type": "code",
   "execution_count": null,
   "metadata": {},
   "outputs": [],
   "source": [
    "# Don't run this code as original repo is not linked to this repo yet\n",
    "# df-date-count.txt contains tweet-ids and its count per day\n",
    "# DateVsCount.png is the time-series of number of tweets per day\n",
    "# Original Repo: https://github.com/echen102/COVID-19-TweetIDs\n",
    "\n",
    "import pandas as pd\n",
    "import numpy as np\n",
    "import os\n",
    "import matplotlib.pyplot as plt\n",
    "\n",
    "file_list = []\n",
    "\n",
    "folder_names = ['2020-01', '2020-02', '2020-03']\n",
    "\n",
    "for folder in folder_names:\n",
    "    for root, dirs, files in os.walk(folder):\n",
    "        #print(root, dirs, files)\n",
    "        for file in files:\n",
    "            count = 0\n",
    "            if file.endswith('.txt'):\n",
    "                with open(os.path.join(root, file), 'r') as f:\n",
    "                    for line in f:\n",
    "                        count = count+1\n",
    "                        #new_list.append(text)\n",
    "            file_list.append((file[21:-7],count))\n",
    "\n",
    "df = pd.DataFrame(file_list, columns=['Date', 'count']).sort_values(by=['Date'])\n",
    "#print(df)\n",
    "\n",
    "df2 = df.groupby(['Date'])['count'].sum().reset_index()\n",
    "print(df2)\n",
    "fp = open(\"df-date-count.txt\", \"w\")\n",
    "fp.write(df2.to_string())\n",
    "fp.close()\n",
    "\n",
    "df.set_index('Date').plot()\n",
    "plt.show()"
   ]
  }
 ],
 "metadata": {
  "kernelspec": {
   "display_name": "Python 3",
   "language": "python",
   "name": "python3"
  },
  "language_info": {
   "codemirror_mode": {
    "name": "ipython",
    "version": 3
   },
   "file_extension": ".py",
   "mimetype": "text/x-python",
   "name": "python",
   "nbconvert_exporter": "python",
   "pygments_lexer": "ipython3",
   "version": "3.7.2"
  }
 },
 "nbformat": 4,
 "nbformat_minor": 2
}
