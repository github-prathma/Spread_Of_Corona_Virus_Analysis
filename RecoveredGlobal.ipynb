{
  "nbformat": 4,
  "nbformat_minor": 0,
  "metadata": {
    "colab": {
      "name": "RecoveredGlobal.ipynb",
      "provenance": []
    },
    "kernelspec": {
      "name": "python3",
      "display_name": "Python 3"
    }
  },
  "cells": [
    {
      "cell_type": "code",
      "metadata": {
        "id": "IEJKd_LbKNVD",
        "colab_type": "code",
        "colab": {}
      },
      "source": [
        "import pandas as pd\n",
        "\n",
        "def globalRecoveredData():\n",
        "  df = pd.read_csv('time_series_covid19_recovered_global.csv')\n",
        "  rf = df.drop(['Province/State','Lat','Long'], axis = 1)\n",
        "  recovered_data = rf.groupby(['Country/Region']).sum()\n",
        "  recovered_data.to_csv('cleaned_global_recovered.csv', index = True)\n"
      ],
      "execution_count": 0,
      "outputs": []
    },
    {
      "cell_type": "code",
      "metadata": {
        "id": "9GHG1QmsXT7Y",
        "colab_type": "code",
        "colab": {}
      },
      "source": [
        "globalRecoveredData()"
      ],
      "execution_count": 0,
      "outputs": []
    }
  ]
}