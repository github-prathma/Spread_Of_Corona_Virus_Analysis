{
  "nbformat": 4,
  "nbformat_minor": 0,
  "metadata": {
    "colab": {
      "name": "EnglishDetectorTweets.ipynb",
      "provenance": []
    },
    "kernelspec": {
      "name": "python3",
      "display_name": "Python 3"
    }
  },
  "cells": [
    {
      "cell_type": "code",
      "metadata": {
        "id": "MdxFdTopCLQ6",
        "colab_type": "code",
        "colab": {
          "base_uri": "https://localhost:8080/",
          "height": 196
        },
        "outputId": "f1e74704-2c50-4e14-cb6e-c499b8f804c3"
      },
      "source": [
        "pip install langdetect"
      ],
      "execution_count": 3,
      "outputs": [
        {
          "output_type": "stream",
          "text": [
            "Collecting langdetect\n",
            "\u001b[?25l  Downloading https://files.pythonhosted.org/packages/56/a3/8407c1e62d5980188b4acc45ef3d94b933d14a2ebc9ef3505f22cf772570/langdetect-1.0.8.tar.gz (981kB)\n",
            "\u001b[K     |████████████████████████████████| 983kB 2.8MB/s \n",
            "\u001b[?25hRequirement already satisfied: six in /usr/local/lib/python3.6/dist-packages (from langdetect) (1.12.0)\n",
            "Building wheels for collected packages: langdetect\n",
            "  Building wheel for langdetect (setup.py) ... \u001b[?25l\u001b[?25hdone\n",
            "  Created wheel for langdetect: filename=langdetect-1.0.8-cp36-none-any.whl size=993193 sha256=a88d5b13205d903233823a8d7a41f2571e75fc2939951786f3a6242d16919fdc\n",
            "  Stored in directory: /root/.cache/pip/wheels/8d/b3/aa/6d99de9f3841d7d3d40a60ea06e6d669e8e5012e6c8b947a57\n",
            "Successfully built langdetect\n",
            "Installing collected packages: langdetect\n",
            "Successfully installed langdetect-1.0.8\n"
          ],
          "name": "stdout"
        }
      ]
    },
    {
      "cell_type": "code",
      "metadata": {
        "id": "C9GAy8QrCEJc",
        "colab_type": "code",
        "colab": {
          "base_uri": "https://localhost:8080/",
          "height": 288
        },
        "outputId": "b7c74a65-7015-4cec-d639-8552ff0edea2"
      },
      "source": [
        "# This file contains the code to store only english tweets so it is easier to analyze.\n",
        "# The english tweets are stored in groupedTweetsCountry/tweetContent.csv\n",
        "\n",
        "from langdetect import detect\n",
        "import pandas as pd\n",
        "\n",
        "# Read new tweets file\n",
        "complete_df = pd.read_csv(\"../NewTweetInfo.csv\", skip_blank_lines=True, error_bad_lines=False)\n",
        "complete_df.head(5)"
      ],
      "execution_count": 6,
      "outputs": [
        {
          "output_type": "execute_result",
          "data": {
            "text/html": [
              "<div>\n",
              "<style scoped>\n",
              "    .dataframe tbody tr th:only-of-type {\n",
              "        vertical-align: middle;\n",
              "    }\n",
              "\n",
              "    .dataframe tbody tr th {\n",
              "        vertical-align: top;\n",
              "    }\n",
              "\n",
              "    .dataframe thead th {\n",
              "        text-align: right;\n",
              "    }\n",
              "</style>\n",
              "<table border=\"1\" class=\"dataframe\">\n",
              "  <thead>\n",
              "    <tr style=\"text-align: right;\">\n",
              "      <th></th>\n",
              "      <th>Unnamed: 0</th>\n",
              "      <th>Unnamed: 0.1</th>\n",
              "      <th>Tweet_time</th>\n",
              "      <th>Tweet_id</th>\n",
              "      <th>Tweet_content</th>\n",
              "      <th>UserId</th>\n",
              "      <th>UserLocation</th>\n",
              "      <th>FollowerCount</th>\n",
              "      <th>RetweetTime</th>\n",
              "      <th>Unnamed: 7</th>\n",
              "      <th>Unnamed: 8</th>\n",
              "    </tr>\n",
              "  </thead>\n",
              "  <tbody>\n",
              "    <tr>\n",
              "      <th>0</th>\n",
              "      <td>0</td>\n",
              "      <td>0</td>\n",
              "      <td>Sat Feb 29 09:48:39 +0000 2020</td>\n",
              "      <td>'1233690537116545025</td>\n",
              "      <td>RT @spectatorindex: BREAKING: First case of co...</td>\n",
              "      <td>'377470176</td>\n",
              "      <td>Conectica</td>\n",
              "      <td>171.0</td>\n",
              "      <td>964</td>\n",
              "      <td>NaN</td>\n",
              "      <td>NaN</td>\n",
              "    </tr>\n",
              "    <tr>\n",
              "      <th>1</th>\n",
              "      <td>1</td>\n",
              "      <td>1</td>\n",
              "      <td>Fri Mar 06 20:08:36 +0000 2020</td>\n",
              "      <td>'1236020881337565185</td>\n",
              "      <td>RT @RepBobbyRush: In 2012, I wore a hoodie on ...</td>\n",
              "      <td>'2193135944</td>\n",
              "      <td>Your Conscience</td>\n",
              "      <td>18871.0</td>\n",
              "      <td>56133</td>\n",
              "      <td>NaN</td>\n",
              "      <td>NaN</td>\n",
              "    </tr>\n",
              "    <tr>\n",
              "      <th>2</th>\n",
              "      <td>2</td>\n",
              "      <td>2</td>\n",
              "      <td>Sun Jan 26 08:59:07 +0000 2020</td>\n",
              "      <td>'1221356884168298498</td>\n",
              "      <td>RT @_IIlIIIIl: In 2017, China built a laborato...</td>\n",
              "      <td>'2922502591</td>\n",
              "      <td>NaN</td>\n",
              "      <td>164.0</td>\n",
              "      <td>6052</td>\n",
              "      <td>NaN</td>\n",
              "      <td>NaN</td>\n",
              "    </tr>\n",
              "    <tr>\n",
              "      <th>3</th>\n",
              "      <td>3</td>\n",
              "      <td>3</td>\n",
              "      <td>Wed Mar 04 22:11:27 +0000 2020</td>\n",
              "      <td>'1235327020869079043</td>\n",
              "      <td>RT @drluebbers: what people say. what people d...</td>\n",
              "      <td>'2575474256</td>\n",
              "      <td>Bayern, Deutschland</td>\n",
              "      <td>1558.0</td>\n",
              "      <td>224</td>\n",
              "      <td>NaN</td>\n",
              "      <td>NaN</td>\n",
              "    </tr>\n",
              "    <tr>\n",
              "      <th>4</th>\n",
              "      <td>4</td>\n",
              "      <td>4</td>\n",
              "      <td>Fri Mar 20 20:30:31 +0000 2020</td>\n",
              "      <td>'1241099825837412357</td>\n",
              "      <td>RT @ReneusMeister: Social distancing explained...</td>\n",
              "      <td>'4242185194</td>\n",
              "      <td>London(ish)</td>\n",
              "      <td>681.0</td>\n",
              "      <td>407</td>\n",
              "      <td>NaN</td>\n",
              "      <td>NaN</td>\n",
              "    </tr>\n",
              "  </tbody>\n",
              "</table>\n",
              "</div>"
            ],
            "text/plain": [
              "   Unnamed: 0 Unnamed: 0.1  ... Unnamed: 7 Unnamed: 8\n",
              "0           0            0  ...        NaN        NaN\n",
              "1           1            1  ...        NaN        NaN\n",
              "2           2            2  ...        NaN        NaN\n",
              "3           3            3  ...        NaN        NaN\n",
              "4           4            4  ...        NaN        NaN\n",
              "\n",
              "[5 rows x 11 columns]"
            ]
          },
          "metadata": {
            "tags": []
          },
          "execution_count": 6
        }
      ]
    },
    {
      "cell_type": "code",
      "metadata": {
        "id": "nT84ywNLDQj7",
        "colab_type": "code",
        "colab": {}
      },
      "source": [
        "def store_english_tweets():\n",
        "    # Read the required columns in the dataframe\n",
        "    df = complete_df[[\"Tweet_time\", \"Tweet_id\", \"UserId\", \"UserLocation\", \"Tweet_content\"]]\n",
        "\n",
        "    df['Lang'] = ''\n",
        "\n",
        "    # Iterate over tweets and store language in Lang column\n",
        "    for index, row in df.iterrows():\n",
        "        try:\n",
        "            row['Lang'] = detect(row['Tweet_content'])\n",
        "        except:\n",
        "            pass\n",
        "\n",
        "    df[df['Lang'] == 'en'].to_csv(\"tweetContent.csv\")"
      ],
      "execution_count": 0,
      "outputs": []
    },
    {
      "cell_type": "code",
      "metadata": {
        "id": "qcfcX-ToD1eH",
        "colab_type": "code",
        "colab": {}
      },
      "source": [
        "store_english_tweets()"
      ],
      "execution_count": 0,
      "outputs": []
    }
  ]
}