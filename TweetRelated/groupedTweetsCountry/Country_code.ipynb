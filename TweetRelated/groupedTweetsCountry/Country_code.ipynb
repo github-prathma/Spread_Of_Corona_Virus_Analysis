{
  "nbformat": 4,
  "nbformat_minor": 0,
  "metadata": {
    "colab": {
      "name": "Untitled1.ipynb",
      "provenance": [],
      "machine_shape": "hm"
    },
    "kernelspec": {
      "name": "python3",
      "display_name": "Python 3"
    }
  },
  "cells": [
    {
      "cell_type": "code",
      "metadata": {
        "id": "npfKjwcfEVSi",
        "colab_type": "code",
        "outputId": "5ecff514-7d1a-4b33-8e77-70bfd4cfc305",
        "colab": {
          "base_uri": "https://localhost:8080/",
          "height": 33
        }
      },
      "source": [
        "pip install pycountry"
      ],
      "execution_count": 1,
      "outputs": [
        {
          "output_type": "stream",
          "text": [
            "Requirement already satisfied: pycountry in /usr/local/lib/python3.6/dist-packages (19.8.18)\n"
          ],
          "name": "stdout"
        }
      ]
    },
    {
      "cell_type": "code",
      "metadata": {
        "id": "zDtKT34_EfBu",
        "colab_type": "code",
        "colab": {}
      },
      "source": [
        "import pandas as pd\n",
        "import numpy as np\n",
        "import pycountry"
      ],
      "execution_count": 0,
      "outputs": []
    },
    {
      "cell_type": "code",
      "metadata": {
        "id": "tc_A_wzXFuL2",
        "colab_type": "code",
        "outputId": "b9d80b15-87f5-4466-80a0-eaf659da1ec5",
        "colab": {
          "base_uri": "https://localhost:8080/",
          "height": 191
        }
      },
      "source": [
        "english_tweet_country = pd.read_csv('english_country_labels_updated.csv')\n",
        "english_tweet_country.head(5)"
      ],
      "execution_count": 3,
      "outputs": [
        {
          "output_type": "execute_result",
          "data": {
            "text/html": [
              "<div>\n",
              "<style scoped>\n",
              "    .dataframe tbody tr th:only-of-type {\n",
              "        vertical-align: middle;\n",
              "    }\n",
              "\n",
              "    .dataframe tbody tr th {\n",
              "        vertical-align: top;\n",
              "    }\n",
              "\n",
              "    .dataframe thead th {\n",
              "        text-align: right;\n",
              "    }\n",
              "</style>\n",
              "<table border=\"1\" class=\"dataframe\">\n",
              "  <thead>\n",
              "    <tr style=\"text-align: right;\">\n",
              "      <th></th>\n",
              "      <th>Unnamed: 0</th>\n",
              "      <th>Geo_Place</th>\n",
              "      <th>Geo_Country</th>\n",
              "      <th>English_Country</th>\n",
              "    </tr>\n",
              "  </thead>\n",
              "  <tbody>\n",
              "    <tr>\n",
              "      <th>0</th>\n",
              "      <td>0</td>\n",
              "      <td>Autoprotect conectica auto, 144, Șoseaua Pante...</td>\n",
              "      <td>România</td>\n",
              "      <td>Romania</td>\n",
              "    </tr>\n",
              "    <tr>\n",
              "      <th>1</th>\n",
              "      <td>2</td>\n",
              "      <td>Norge, Namsos, Trøndelag, Norge</td>\n",
              "      <td>Norge</td>\n",
              "      <td>Norway</td>\n",
              "    </tr>\n",
              "    <tr>\n",
              "      <th>2</th>\n",
              "      <td>3</td>\n",
              "      <td>Bayern, Deutschland</td>\n",
              "      <td>Deutschland</td>\n",
              "      <td>Germany</td>\n",
              "    </tr>\n",
              "    <tr>\n",
              "      <th>3</th>\n",
              "      <td>6</td>\n",
              "      <td>Little Philadelphia Road, Brass Castle, Oxford...</td>\n",
              "      <td>United States of America</td>\n",
              "      <td>United States of America</td>\n",
              "    </tr>\n",
              "    <tr>\n",
              "      <th>4</th>\n",
              "      <td>7</td>\n",
              "      <td>Bogotá, Distrito Capital, 110321, Colombia</td>\n",
              "      <td>Colombia</td>\n",
              "      <td>Colombia</td>\n",
              "    </tr>\n",
              "  </tbody>\n",
              "</table>\n",
              "</div>"
            ],
            "text/plain": [
              "   Unnamed: 0  ...            English_Country\n",
              "0           0  ...                    Romania\n",
              "1           2  ...                     Norway\n",
              "2           3  ...                    Germany\n",
              "3           6  ...   United States of America\n",
              "4           7  ...                   Colombia\n",
              "\n",
              "[5 rows x 4 columns]"
            ]
          },
          "metadata": {
            "tags": []
          },
          "execution_count": 3
        }
      ]
    },
    {
      "cell_type": "code",
      "metadata": {
        "id": "gDtzrSH0FxG_",
        "colab_type": "code",
        "colab": {}
      },
      "source": [
        "english_tweet_country['country_code'] = pd.Series('')\n",
        "\n",
        "for index, row in english_tweet_country.iterrows():\n",
        "  country = row['English_Country']\n",
        "  country = country.strip(\"'\")\n",
        "  country = country.strip()\n",
        "\n",
        "  country_object = pycountry.countries.get(name = country)\n",
        "\n",
        "  if country_object is None:\n",
        "    country_object1 = pycountry.countries.get(official_name = country)\n",
        "    if country_object1 is None:\n",
        "      row['country_code'] = np.nan\n",
        "    else:\n",
        "      row['country_code'] = country_object1.alpha_2\n",
        "  else: \n",
        "    row['country_code'] = country_object.alpha_2 \n",
        "  english_tweet_country.at[index,'country_code'] = row['country_code']"
      ],
      "execution_count": 0,
      "outputs": []
    },
    {
      "cell_type": "code",
      "metadata": {
        "id": "rn081gCwF0O7",
        "colab_type": "code",
        "colab": {
          "base_uri": "https://localhost:8080/",
          "height": 191
        },
        "outputId": "e458f0aa-03d2-4057-a62a-7d8062296b1c"
      },
      "source": [
        "english_tweet_country.head(5)"
      ],
      "execution_count": 5,
      "outputs": [
        {
          "output_type": "execute_result",
          "data": {
            "text/html": [
              "<div>\n",
              "<style scoped>\n",
              "    .dataframe tbody tr th:only-of-type {\n",
              "        vertical-align: middle;\n",
              "    }\n",
              "\n",
              "    .dataframe tbody tr th {\n",
              "        vertical-align: top;\n",
              "    }\n",
              "\n",
              "    .dataframe thead th {\n",
              "        text-align: right;\n",
              "    }\n",
              "</style>\n",
              "<table border=\"1\" class=\"dataframe\">\n",
              "  <thead>\n",
              "    <tr style=\"text-align: right;\">\n",
              "      <th></th>\n",
              "      <th>Unnamed: 0</th>\n",
              "      <th>Geo_Place</th>\n",
              "      <th>Geo_Country</th>\n",
              "      <th>English_Country</th>\n",
              "      <th>country_code</th>\n",
              "    </tr>\n",
              "  </thead>\n",
              "  <tbody>\n",
              "    <tr>\n",
              "      <th>0</th>\n",
              "      <td>0</td>\n",
              "      <td>Autoprotect conectica auto, 144, Șoseaua Pante...</td>\n",
              "      <td>România</td>\n",
              "      <td>Romania</td>\n",
              "      <td>RO</td>\n",
              "    </tr>\n",
              "    <tr>\n",
              "      <th>1</th>\n",
              "      <td>2</td>\n",
              "      <td>Norge, Namsos, Trøndelag, Norge</td>\n",
              "      <td>Norge</td>\n",
              "      <td>Norway</td>\n",
              "      <td>NO</td>\n",
              "    </tr>\n",
              "    <tr>\n",
              "      <th>2</th>\n",
              "      <td>3</td>\n",
              "      <td>Bayern, Deutschland</td>\n",
              "      <td>Deutschland</td>\n",
              "      <td>Germany</td>\n",
              "      <td>DE</td>\n",
              "    </tr>\n",
              "    <tr>\n",
              "      <th>3</th>\n",
              "      <td>6</td>\n",
              "      <td>Little Philadelphia Road, Brass Castle, Oxford...</td>\n",
              "      <td>United States of America</td>\n",
              "      <td>United States of America</td>\n",
              "      <td>US</td>\n",
              "    </tr>\n",
              "    <tr>\n",
              "      <th>4</th>\n",
              "      <td>7</td>\n",
              "      <td>Bogotá, Distrito Capital, 110321, Colombia</td>\n",
              "      <td>Colombia</td>\n",
              "      <td>Colombia</td>\n",
              "      <td>CO</td>\n",
              "    </tr>\n",
              "  </tbody>\n",
              "</table>\n",
              "</div>"
            ],
            "text/plain": [
              "   Unnamed: 0  ... country_code\n",
              "0           0  ...           RO\n",
              "1           2  ...           NO\n",
              "2           3  ...           DE\n",
              "3           6  ...           US\n",
              "4           7  ...           CO\n",
              "\n",
              "[5 rows x 5 columns]"
            ]
          },
          "metadata": {
            "tags": []
          },
          "execution_count": 5
        }
      ]
    },
    {
      "cell_type": "code",
      "metadata": {
        "id": "PeIfC4X7F2yg",
        "colab_type": "code",
        "colab": {
          "base_uri": "https://localhost:8080/",
          "height": 516
        },
        "outputId": "37fc0546-a152-40f5-9f66-13a7ac547150"
      },
      "source": [
        "df_liwc = pd.read_csv(\"../CleanedTweetsInfo_LIWC.csv\")\n",
        "df_liwc.head(5)"
      ],
      "execution_count": 6,
      "outputs": [
        {
          "output_type": "execute_result",
          "data": {
            "text/html": [
              "<div>\n",
              "<style scoped>\n",
              "    .dataframe tbody tr th:only-of-type {\n",
              "        vertical-align: middle;\n",
              "    }\n",
              "\n",
              "    .dataframe tbody tr th {\n",
              "        vertical-align: top;\n",
              "    }\n",
              "\n",
              "    .dataframe thead th {\n",
              "        text-align: right;\n",
              "    }\n",
              "</style>\n",
              "<table border=\"1\" class=\"dataframe\">\n",
              "  <thead>\n",
              "    <tr style=\"text-align: right;\">\n",
              "      <th></th>\n",
              "      <th>A</th>\n",
              "      <th>B</th>\n",
              "      <th>C</th>\n",
              "      <th>D</th>\n",
              "      <th>E</th>\n",
              "      <th>F</th>\n",
              "      <th>G</th>\n",
              "      <th>H</th>\n",
              "      <th>I</th>\n",
              "      <th>J</th>\n",
              "      <th>K</th>\n",
              "      <th>L</th>\n",
              "      <th>M</th>\n",
              "      <th>WC</th>\n",
              "      <th>affect</th>\n",
              "      <th>posemo</th>\n",
              "      <th>negemo</th>\n",
              "      <th>anx</th>\n",
              "      <th>anger</th>\n",
              "      <th>sad</th>\n",
              "    </tr>\n",
              "  </thead>\n",
              "  <tbody>\n",
              "    <tr>\n",
              "      <th>0</th>\n",
              "      <td>0</td>\n",
              "      <td>0</td>\n",
              "      <td>0</td>\n",
              "      <td>Sat Feb 29 09:48:39 +0000 2020</td>\n",
              "      <td>'1233690537116545025</td>\n",
              "      <td>RT @spectatorindex: BREAKING: First case of co...</td>\n",
              "      <td>'377470176</td>\n",
              "      <td>Conectica</td>\n",
              "      <td>171.0</td>\n",
              "      <td>964</td>\n",
              "      <td>2020-02-29</td>\n",
              "      <td>Conectica</td>\n",
              "      <td>România</td>\n",
              "      <td>9</td>\n",
              "      <td>0.0</td>\n",
              "      <td>0.0</td>\n",
              "      <td>0.0</td>\n",
              "      <td>0.0</td>\n",
              "      <td>0.0</td>\n",
              "      <td>0.0</td>\n",
              "    </tr>\n",
              "    <tr>\n",
              "      <th>1</th>\n",
              "      <td>1</td>\n",
              "      <td>1</td>\n",
              "      <td>1</td>\n",
              "      <td>Fri Mar 06 20:08:36 +0000 2020</td>\n",
              "      <td>'1236020881337565185</td>\n",
              "      <td>RT @RepBobbyRush: In 2012, I wore a hoodie on ...</td>\n",
              "      <td>'2193135944</td>\n",
              "      <td>Your Conscience</td>\n",
              "      <td>18871.0</td>\n",
              "      <td>56133</td>\n",
              "      <td>2020-03-06</td>\n",
              "      <td>Your Conscience</td>\n",
              "      <td>None</td>\n",
              "      <td>25</td>\n",
              "      <td>0.0</td>\n",
              "      <td>0.0</td>\n",
              "      <td>0.0</td>\n",
              "      <td>0.0</td>\n",
              "      <td>0.0</td>\n",
              "      <td>0.0</td>\n",
              "    </tr>\n",
              "    <tr>\n",
              "      <th>2</th>\n",
              "      <td>3</td>\n",
              "      <td>3</td>\n",
              "      <td>3</td>\n",
              "      <td>Wed Mar 04 22:11:27 +0000 2020</td>\n",
              "      <td>'1235327020869079043</td>\n",
              "      <td>RT @drluebbers: what people say. what people d...</td>\n",
              "      <td>'2575474256</td>\n",
              "      <td>Bayern, Deutschland</td>\n",
              "      <td>1558.0</td>\n",
              "      <td>224</td>\n",
              "      <td>2020-03-04</td>\n",
              "      <td>Bayern, Deutschland</td>\n",
              "      <td>Deutschland</td>\n",
              "      <td>15</td>\n",
              "      <td>0.0</td>\n",
              "      <td>0.0</td>\n",
              "      <td>0.0</td>\n",
              "      <td>0.0</td>\n",
              "      <td>0.0</td>\n",
              "      <td>0.0</td>\n",
              "    </tr>\n",
              "    <tr>\n",
              "      <th>3</th>\n",
              "      <td>4</td>\n",
              "      <td>4</td>\n",
              "      <td>4</td>\n",
              "      <td>Fri Mar 20 20:30:31 +0000 2020</td>\n",
              "      <td>'1241099825837412357</td>\n",
              "      <td>RT @ReneusMeister: Social distancing explained...</td>\n",
              "      <td>'4242185194</td>\n",
              "      <td>London(ish)</td>\n",
              "      <td>681.0</td>\n",
              "      <td>407</td>\n",
              "      <td>2020-03-20</td>\n",
              "      <td>London(ish)</td>\n",
              "      <td>None</td>\n",
              "      <td>13</td>\n",
              "      <td>0.0</td>\n",
              "      <td>0.0</td>\n",
              "      <td>0.0</td>\n",
              "      <td>0.0</td>\n",
              "      <td>0.0</td>\n",
              "      <td>0.0</td>\n",
              "    </tr>\n",
              "    <tr>\n",
              "      <th>4</th>\n",
              "      <td>5</td>\n",
              "      <td>5</td>\n",
              "      <td>5</td>\n",
              "      <td>Sat Mar 07 05:55:33 +0000 2020</td>\n",
              "      <td>'1236168592007106562</td>\n",
              "      <td>RT @bleuarte: ถ้าสถานการณ์ COVID-19 มันเลวร้าย...</td>\n",
              "      <td>'2903328968</td>\n",
              "      <td>爱的就是你...♡•♡</td>\n",
              "      <td>77.0</td>\n",
              "      <td>1061</td>\n",
              "      <td>2020-03-07</td>\n",
              "      <td>爱的就是你...♡•♡</td>\n",
              "      <td>None</td>\n",
              "      <td>21</td>\n",
              "      <td>0.0</td>\n",
              "      <td>0.0</td>\n",
              "      <td>0.0</td>\n",
              "      <td>0.0</td>\n",
              "      <td>0.0</td>\n",
              "      <td>0.0</td>\n",
              "    </tr>\n",
              "  </tbody>\n",
              "</table>\n",
              "</div>"
            ],
            "text/plain": [
              "   A  B  C                               D  ... negemo  anx anger  sad\n",
              "0  0  0  0  Sat Feb 29 09:48:39 +0000 2020  ...    0.0  0.0   0.0  0.0\n",
              "1  1  1  1  Fri Mar 06 20:08:36 +0000 2020  ...    0.0  0.0   0.0  0.0\n",
              "2  3  3  3  Wed Mar 04 22:11:27 +0000 2020  ...    0.0  0.0   0.0  0.0\n",
              "3  4  4  4  Fri Mar 20 20:30:31 +0000 2020  ...    0.0  0.0   0.0  0.0\n",
              "4  5  5  5  Sat Mar 07 05:55:33 +0000 2020  ...    0.0  0.0   0.0  0.0\n",
              "\n",
              "[5 rows x 20 columns]"
            ]
          },
          "metadata": {
            "tags": []
          },
          "execution_count": 6
        }
      ]
    },
    {
      "cell_type": "code",
      "metadata": {
        "id": "lurJT15LF5wx",
        "colab_type": "code",
        "colab": {}
      },
      "source": [
        "merged_df = pd.merge(df_liwc,english_tweet_country, how='left', left_on='M',\n",
        "                                           right_on='Geo_Country')\n",
        "merged_df = merged_df.drop(['Unnamed: 0'], axis=1)\n",
        "merged_df = merged_df.drop_duplicates()\n",
        "\n",
        "\n",
        "merged_df.head(20)\n",
        "merged_df.to_csv(\"output.csv\")"
      ],
      "execution_count": 0,
      "outputs": []
    }
  ]
}