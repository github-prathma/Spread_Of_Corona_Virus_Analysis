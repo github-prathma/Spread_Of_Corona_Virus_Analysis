{
  "nbformat": 4,
  "nbformat_minor": 0,
  "metadata": {
    "colab": {
      "name": "Untitled1.ipynb",
      "provenance": [],
      "machine_shape": "hm"
    },
    "kernelspec": {
      "name": "python3",
      "display_name": "Python 3"
    }
  },
  "cells": [
    {
      "cell_type": "code",
      "metadata": {
        "id": "npfKjwcfEVSi",
        "colab_type": "code",
        "outputId": "6a993606-00f4-4595-aca0-a3b8b5c16471",
        "colab": {
          "base_uri": "https://localhost:8080/",
          "height": 33
        }
      },
      "source": [
        "pip install pycountry"
      ],
      "execution_count": 2,
      "outputs": [
        {
          "output_type": "stream",
          "text": [
            "Requirement already satisfied: pycountry in /usr/local/lib/python3.6/dist-packages (19.8.18)\n"
          ],
          "name": "stdout"
        }
      ]
    },
    {
      "cell_type": "code",
      "metadata": {
        "id": "zDtKT34_EfBu",
        "colab_type": "code",
        "colab": {}
      },
      "source": [
        "import pandas as pd\n",
        "import numpy as np\n",
        "import pycountry"
      ],
      "execution_count": 0,
      "outputs": []
    },
    {
      "cell_type": "code",
      "metadata": {
        "id": "tc_A_wzXFuL2",
        "colab_type": "code",
        "outputId": "8dac4f22-2c69-42b9-d27d-1d0f41f0f1e2",
        "colab": {
          "base_uri": "https://localhost:8080/",
          "height": 191
        }
      },
      "source": [
        "english_tweet_country = pd.read_csv('english_country_labels_updated.csv')\n",
        "english_tweet_country.head(5)"
      ],
      "execution_count": 4,
      "outputs": [
        {
          "output_type": "execute_result",
          "data": {
            "text/html": [
              "<div>\n",
              "<style scoped>\n",
              "    .dataframe tbody tr th:only-of-type {\n",
              "        vertical-align: middle;\n",
              "    }\n",
              "\n",
              "    .dataframe tbody tr th {\n",
              "        vertical-align: top;\n",
              "    }\n",
              "\n",
              "    .dataframe thead th {\n",
              "        text-align: right;\n",
              "    }\n",
              "</style>\n",
              "<table border=\"1\" class=\"dataframe\">\n",
              "  <thead>\n",
              "    <tr style=\"text-align: right;\">\n",
              "      <th></th>\n",
              "      <th>Unnamed: 0</th>\n",
              "      <th>Geo_Place</th>\n",
              "      <th>Geo_Country</th>\n",
              "      <th>English_Country</th>\n",
              "    </tr>\n",
              "  </thead>\n",
              "  <tbody>\n",
              "    <tr>\n",
              "      <th>0</th>\n",
              "      <td>0</td>\n",
              "      <td>Autoprotect conectica auto, 144, Șoseaua Pante...</td>\n",
              "      <td>România</td>\n",
              "      <td>Romania</td>\n",
              "    </tr>\n",
              "    <tr>\n",
              "      <th>1</th>\n",
              "      <td>2</td>\n",
              "      <td>Norge, Namsos, Trøndelag, Norge</td>\n",
              "      <td>Norge</td>\n",
              "      <td>Norway</td>\n",
              "    </tr>\n",
              "    <tr>\n",
              "      <th>2</th>\n",
              "      <td>3</td>\n",
              "      <td>Bayern, Deutschland</td>\n",
              "      <td>Deutschland</td>\n",
              "      <td>Germany</td>\n",
              "    </tr>\n",
              "    <tr>\n",
              "      <th>3</th>\n",
              "      <td>6</td>\n",
              "      <td>Little Philadelphia Road, Brass Castle, Oxford...</td>\n",
              "      <td>United States of America</td>\n",
              "      <td>United States of America</td>\n",
              "    </tr>\n",
              "    <tr>\n",
              "      <th>4</th>\n",
              "      <td>7</td>\n",
              "      <td>Bogotá, Distrito Capital, 110321, Colombia</td>\n",
              "      <td>Colombia</td>\n",
              "      <td>Colombia</td>\n",
              "    </tr>\n",
              "  </tbody>\n",
              "</table>\n",
              "</div>"
            ],
            "text/plain": [
              "   Unnamed: 0  ...            English_Country\n",
              "0           0  ...                    Romania\n",
              "1           2  ...                     Norway\n",
              "2           3  ...                    Germany\n",
              "3           6  ...   United States of America\n",
              "4           7  ...                   Colombia\n",
              "\n",
              "[5 rows x 4 columns]"
            ]
          },
          "metadata": {
            "tags": []
          },
          "execution_count": 4
        }
      ]
    },
    {
      "cell_type": "code",
      "metadata": {
        "id": "gDtzrSH0FxG_",
        "colab_type": "code",
        "outputId": "5641f1e8-14af-4bc8-839c-980e10ec8345",
        "colab": {
          "base_uri": "https://localhost:8080/",
          "height": 245
        }
      },
      "source": [
        "def get_country_code(country):\n",
        "    country = country.strip(\"'\")\n",
        "    country = country.strip()\n",
        "    country_object = pycountry.countries.get(name=country)\n",
        "    if country_object is None:\n",
        "        country_object1 = pycountry.countries.get(official_name=country)\n",
        "        if country_object1 is None:\n",
        "            return np.nan\n",
        "        else:\n",
        "            return country_object1.alpha_2\n",
        "    else:\n",
        "        return country_object.alpha_2\n",
        "\n",
        "\n",
        "english_tweet_country['country_code'] = english_tweet_country['English_Country'].apply(get_country_code)\n",
        "english_tweet_country.drop('Unnamed: 0', inplace=True, axis=1)\n",
        "english_tweet_country.drop_duplicates(ignore_index=True)\n",
        "print(english_tweet_country)\n",
        "\n"
      ],
      "execution_count": 5,
      "outputs": [
        {
          "output_type": "stream",
          "text": [
            "                                               Geo_Place  ... country_code\n",
            "0      Autoprotect conectica auto, 144, Șoseaua Pante...  ...           RO\n",
            "1                        Norge, Namsos, Trøndelag, Norge  ...           NO\n",
            "2                                    Bayern, Deutschland  ...           DE\n",
            "3      Little Philadelphia Road, Brass Castle, Oxford...  ...           US\n",
            "4             Bogotá, Distrito Capital, 110321, Colombia  ...           CO\n",
            "...                                                  ...  ...          ...\n",
            "14512  Northern, Deer Lake, Newfoundland, Newfoundlan...  ...           CA\n",
            "14513  Bailando, Via Nino Bixio, Dossetto, Villafranc...  ...           IT\n",
            "14514      Baltimore, Maryland, United States of America  ...           US\n",
            "14515  San Isidro, Partido de San Isidro, Buenos Aire...  ...           AR\n",
            "14516                                     Nairobi, Kenya  ...           KE\n",
            "\n",
            "[14517 rows x 4 columns]\n"
          ],
          "name": "stdout"
        }
      ]
    },
    {
      "cell_type": "code",
      "metadata": {
        "id": "PeIfC4X7F2yg",
        "colab_type": "code",
        "outputId": "18a302eb-ebfa-4896-a758-dd1470cc9c11",
        "colab": {
          "base_uri": "https://localhost:8080/",
          "height": 516
        }
      },
      "source": [
        "df_liwc = pd.read_csv(\"CleanedTweetsInfo_LIWC.csv\")\n",
        "df_liwc.head(5)"
      ],
      "execution_count": 6,
      "outputs": [
        {
          "output_type": "execute_result",
          "data": {
            "text/html": [
              "<div>\n",
              "<style scoped>\n",
              "    .dataframe tbody tr th:only-of-type {\n",
              "        vertical-align: middle;\n",
              "    }\n",
              "\n",
              "    .dataframe tbody tr th {\n",
              "        vertical-align: top;\n",
              "    }\n",
              "\n",
              "    .dataframe thead th {\n",
              "        text-align: right;\n",
              "    }\n",
              "</style>\n",
              "<table border=\"1\" class=\"dataframe\">\n",
              "  <thead>\n",
              "    <tr style=\"text-align: right;\">\n",
              "      <th></th>\n",
              "      <th>A</th>\n",
              "      <th>B</th>\n",
              "      <th>C</th>\n",
              "      <th>D</th>\n",
              "      <th>E</th>\n",
              "      <th>F</th>\n",
              "      <th>G</th>\n",
              "      <th>H</th>\n",
              "      <th>I</th>\n",
              "      <th>J</th>\n",
              "      <th>K</th>\n",
              "      <th>L</th>\n",
              "      <th>M</th>\n",
              "      <th>WC</th>\n",
              "      <th>affect</th>\n",
              "      <th>posemo</th>\n",
              "      <th>negemo</th>\n",
              "      <th>anx</th>\n",
              "      <th>anger</th>\n",
              "      <th>sad</th>\n",
              "    </tr>\n",
              "  </thead>\n",
              "  <tbody>\n",
              "    <tr>\n",
              "      <th>0</th>\n",
              "      <td>0</td>\n",
              "      <td>0</td>\n",
              "      <td>0</td>\n",
              "      <td>Sat Feb 29 09:48:39 +0000 2020</td>\n",
              "      <td>'1233690537116545025</td>\n",
              "      <td>RT @spectatorindex: BREAKING: First case of co...</td>\n",
              "      <td>'377470176</td>\n",
              "      <td>Conectica</td>\n",
              "      <td>171.0</td>\n",
              "      <td>964</td>\n",
              "      <td>2020-02-29</td>\n",
              "      <td>Conectica</td>\n",
              "      <td>România</td>\n",
              "      <td>9</td>\n",
              "      <td>0.0</td>\n",
              "      <td>0.0</td>\n",
              "      <td>0.0</td>\n",
              "      <td>0.0</td>\n",
              "      <td>0.0</td>\n",
              "      <td>0.0</td>\n",
              "    </tr>\n",
              "    <tr>\n",
              "      <th>1</th>\n",
              "      <td>1</td>\n",
              "      <td>1</td>\n",
              "      <td>1</td>\n",
              "      <td>Fri Mar 06 20:08:36 +0000 2020</td>\n",
              "      <td>'1236020881337565185</td>\n",
              "      <td>RT @RepBobbyRush: In 2012, I wore a hoodie on ...</td>\n",
              "      <td>'2193135944</td>\n",
              "      <td>Your Conscience</td>\n",
              "      <td>18871.0</td>\n",
              "      <td>56133</td>\n",
              "      <td>2020-03-06</td>\n",
              "      <td>Your Conscience</td>\n",
              "      <td>None</td>\n",
              "      <td>25</td>\n",
              "      <td>0.0</td>\n",
              "      <td>0.0</td>\n",
              "      <td>0.0</td>\n",
              "      <td>0.0</td>\n",
              "      <td>0.0</td>\n",
              "      <td>0.0</td>\n",
              "    </tr>\n",
              "    <tr>\n",
              "      <th>2</th>\n",
              "      <td>3</td>\n",
              "      <td>3</td>\n",
              "      <td>3</td>\n",
              "      <td>Wed Mar 04 22:11:27 +0000 2020</td>\n",
              "      <td>'1235327020869079043</td>\n",
              "      <td>RT @drluebbers: what people say. what people d...</td>\n",
              "      <td>'2575474256</td>\n",
              "      <td>Bayern, Deutschland</td>\n",
              "      <td>1558.0</td>\n",
              "      <td>224</td>\n",
              "      <td>2020-03-04</td>\n",
              "      <td>Bayern, Deutschland</td>\n",
              "      <td>Deutschland</td>\n",
              "      <td>15</td>\n",
              "      <td>0.0</td>\n",
              "      <td>0.0</td>\n",
              "      <td>0.0</td>\n",
              "      <td>0.0</td>\n",
              "      <td>0.0</td>\n",
              "      <td>0.0</td>\n",
              "    </tr>\n",
              "    <tr>\n",
              "      <th>3</th>\n",
              "      <td>4</td>\n",
              "      <td>4</td>\n",
              "      <td>4</td>\n",
              "      <td>Fri Mar 20 20:30:31 +0000 2020</td>\n",
              "      <td>'1241099825837412357</td>\n",
              "      <td>RT @ReneusMeister: Social distancing explained...</td>\n",
              "      <td>'4242185194</td>\n",
              "      <td>London(ish)</td>\n",
              "      <td>681.0</td>\n",
              "      <td>407</td>\n",
              "      <td>2020-03-20</td>\n",
              "      <td>London(ish)</td>\n",
              "      <td>None</td>\n",
              "      <td>13</td>\n",
              "      <td>0.0</td>\n",
              "      <td>0.0</td>\n",
              "      <td>0.0</td>\n",
              "      <td>0.0</td>\n",
              "      <td>0.0</td>\n",
              "      <td>0.0</td>\n",
              "    </tr>\n",
              "    <tr>\n",
              "      <th>4</th>\n",
              "      <td>5</td>\n",
              "      <td>5</td>\n",
              "      <td>5</td>\n",
              "      <td>Sat Mar 07 05:55:33 +0000 2020</td>\n",
              "      <td>'1236168592007106562</td>\n",
              "      <td>RT @bleuarte: ถ้าสถานการณ์ COVID-19 มันเลวร้าย...</td>\n",
              "      <td>'2903328968</td>\n",
              "      <td>爱的就是你...♡•♡</td>\n",
              "      <td>77.0</td>\n",
              "      <td>1061</td>\n",
              "      <td>2020-03-07</td>\n",
              "      <td>爱的就是你...♡•♡</td>\n",
              "      <td>None</td>\n",
              "      <td>21</td>\n",
              "      <td>0.0</td>\n",
              "      <td>0.0</td>\n",
              "      <td>0.0</td>\n",
              "      <td>0.0</td>\n",
              "      <td>0.0</td>\n",
              "      <td>0.0</td>\n",
              "    </tr>\n",
              "  </tbody>\n",
              "</table>\n",
              "</div>"
            ],
            "text/plain": [
              "   A  B  C                               D  ... negemo  anx anger  sad\n",
              "0  0  0  0  Sat Feb 29 09:48:39 +0000 2020  ...    0.0  0.0   0.0  0.0\n",
              "1  1  1  1  Fri Mar 06 20:08:36 +0000 2020  ...    0.0  0.0   0.0  0.0\n",
              "2  3  3  3  Wed Mar 04 22:11:27 +0000 2020  ...    0.0  0.0   0.0  0.0\n",
              "3  4  4  4  Fri Mar 20 20:30:31 +0000 2020  ...    0.0  0.0   0.0  0.0\n",
              "4  5  5  5  Sat Mar 07 05:55:33 +0000 2020  ...    0.0  0.0   0.0  0.0\n",
              "\n",
              "[5 rows x 20 columns]"
            ]
          },
          "metadata": {
            "tags": []
          },
          "execution_count": 6
        }
      ]
    },
    {
      "cell_type": "code",
      "metadata": {
        "id": "lurJT15LF5wx",
        "colab_type": "code",
        "colab": {}
      },
      "source": [
        "merged_df = pd.merge(df_liwc, english_tweet_country, how='left', left_on='M',\n",
        "                     right_on='Geo_Country')\n",
        "merged_df = merged_df.rename(columns={'A':'Unnamed: 0','B':'Unnamed: 0.1', 'C':'Unnamed: 0.1.1',\n",
        "                                      'D':'Tweet_time', 'E':'Tweet_id', 'F':'Tweet_content','G':'UserId',\n",
        "                                      'H':'UserLocation','I':'FollowerCount','J':'RetweetTime','K':'date', \n",
        "                                      'L':'Tweet_Place_x', 'M':'Geo_Country_y',\n",
        "                                      'WC':'WC','affect':'affect', 'posemo':'posemo',\n",
        "                                      'negemo':'negemo','anx':'anx','anger':'anger',\n",
        "                                      'sad':'sad','country_code':'country_code'})\n",
        "\n",
        "merged_df = merged_df.drop(['Unnamed: 0', 'Unnamed: 0.1', 'Unnamed: 0.1.1'], axis=1)\n",
        "merged_df = merged_df.drop_duplicates(ignore_index=True, subset='Tweet_id')\n",
        "merged_df.set_index(merged_df['Tweet_id'],inplace=True)\n",
        "merged_df.head(20)\n",
        "merged_df.to_csv(\"../final_LIWC_categories.csv\")"
      ],
      "execution_count": 0,
      "outputs": []
    }
  ]
}