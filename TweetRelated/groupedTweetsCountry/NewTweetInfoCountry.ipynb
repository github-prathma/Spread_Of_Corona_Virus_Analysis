{
  "nbformat": 4,
  "nbformat_minor": 0,
  "metadata": {
    "anaconda-cloud": {},
    "kernelspec": {
      "display_name": "Python 3",
      "language": "python",
      "name": "python3"
    },
    "language_info": {
      "codemirror_mode": {
        "name": "ipython",
        "version": 3
      },
      "file_extension": ".py",
      "mimetype": "text/x-python",
      "name": "python",
      "nbconvert_exporter": "python",
      "pygments_lexer": "ipython3",
      "version": "3.6.1"
    },
    "colab": {
      "name": "NewTweetInfoCountry.ipynb",
      "provenance": []
    }
  },
  "cells": [
    {
      "cell_type": "code",
      "metadata": {
        "id": "o4K2AxXZ37J7",
        "colab_type": "code",
        "colab": {}
      },
      "source": [
        "# This file contains code for 2 operations:\n",
        "# 1. Add country column to ../TweetRelated/CleanedTweetsInfo.csv which will be further used for sentiment analysis\n",
        "# 2. Plot number of Tweets vs country graph\n",
        "\n",
        "# -*- coding: utf-8 -*-\n",
        "import pandas as pd\n",
        "import unicodedata\n",
        "import matplotlib.font_manager as fm\n",
        "from matplotlib.ft2font import FT2Font\n",
        "from __future__ import unicode_literals\n",
        "import matplotlib.pyplot as plt"
      ],
      "execution_count": 0,
      "outputs": []
    },
    {
      "cell_type": "code",
      "metadata": {
        "id": "LMjJgX2w4SuL",
        "colab_type": "code",
        "colab": {}
      },
      "source": [
        "def get_tweets_country():\n",
        "    df_country = pd.read_csv('tweetsCountry.csv', delimiter=\"\\t\", header=None)\n",
        "\n",
        "    df_country.columns = ['Geo_Place']\n",
        "\n",
        "    df_country['Geo_Country'] = None\n",
        "\n",
        "    for index, row in df_country.iterrows():\n",
        "        place_list = row['Geo_Place'].rsplit(',', 1)\n",
        "        row['Geo_Country'] = place_list[len(place_list) - 1]\n",
        "    return df_country"
      ],
      "execution_count": 0,
      "outputs": []
    },
    {
      "cell_type": "code",
      "metadata": {
        "id": "DMRTQb5S4Y9q",
        "colab_type": "code",
        "colab": {}
      },
      "source": [
        "def get_user_location_country_map(df_country):\n",
        "    df_unique_locations = pd.read_csv('uniqueLocations.csv', delimiter=\"\\t\", header=None)\n",
        "    df_unique_locations.columns = ['Tweet_Place']\n",
        "\n",
        "    # Create new dataframe of Tweet_Place and Geo_Country\n",
        "    tweet_country_df = pd.DataFrame(columns=['Tweet_Place', 'Geo_Country'])\n",
        "    tweet_country_df['Tweet_Place'] = df_unique_locations['Tweet_Place']\n",
        "    tweet_country_df['Geo_Country'] = df_country['Geo_Country']\n",
        "    return tweet_country_df"
      ],
      "execution_count": 0,
      "outputs": []
    },
    {
      "cell_type": "code",
      "metadata": {
        "id": "38nvXgaH4Zte",
        "colab_type": "code",
        "colab": {}
      },
      "source": [
        "def add_country_column(tweet_country_df):\n",
        "    cleaned_tweets_info_df = pd.read_csv('../CleanedTweetsInfo.csv')\n",
        "\n",
        "    tweet_info_country_merge_df = pd.merge(cleaned_tweets_info_df, tweet_country_df, how='left', left_on='UserLocation',\n",
        "                                           right_on='Tweet_Place')\n",
        "\n",
        "    tweet_info_country_merge_df.dropna(inplace=True, axis=0)\n",
        "\n",
        "    print(tweet_info_country_merge_df)\n",
        "\n",
        "    # The below line is commented in order to avoid rewriting of file. Uncomment for creating new file\n",
        "    # tweet_info_country_merge_df.to_csv(\"../TweetRelated/CleanedTweetsInfo.csv\")\n",
        "\n",
        "    return tweet_info_country_merge_df\n"
      ],
      "execution_count": 0,
      "outputs": []
    },
    {
      "cell_type": "code",
      "metadata": {
        "id": "2JiJTUE64dl8",
        "colab_type": "code",
        "colab": {
          "base_uri": "https://localhost:8080/",
          "height": 245
        },
        "outputId": "68f34fab-1aa8-4f82-e542-e69b815b810c"
      },
      "source": [
        "# Function calls\n",
        "df_country = get_tweets_country()\n",
        "user_location_country_df = get_user_location_country_map(df_country)\n",
        "tweet_info_country_merge_df = add_country_column(user_location_country_df)\n"
      ],
      "execution_count": 24,
      "outputs": [
        {
          "output_type": "stream",
          "text": [
            "       Unnamed: 0  Unnamed: 0.1  ...                Tweet_Place   Geo_Country\n",
            "0               0             0  ...                  Conectica       România\n",
            "1               1             1  ...            Your Conscience          None\n",
            "2               2             3  ...        Bayern, Deutschland   Deutschland\n",
            "3               3             4  ...                London(ish)          None\n",
            "4               4             5  ...                爱的就是你...♡•♡          None\n",
            "...           ...           ...  ...                        ...           ...\n",
            "44611       43319         91100  ...     Ireland (Free Belfast)          None\n",
            "44612       43320         91101  ...      San Isidro, Argentina     Argentina\n",
            "44613       43321         91103  ...  NY , Luxembourg , Tunisia          None\n",
            "44614       43322         91104  ...                    Toronto        Canada\n",
            "44615       43323         91105  ...             Nairobi-kenya.         Kenya\n",
            "\n",
            "[44616 rows x 18 columns]\n"
          ],
          "name": "stdout"
        }
      ]
    },
    {
      "cell_type": "code",
      "metadata": {
        "id": "awVMUzAE4hwn",
        "colab_type": "code",
        "colab": {}
      },
      "source": [
        "def plot_tweet_count_countries(tweet_info_country_merge_df):\n",
        "    grouped_df = tweet_info_country_merge_df.groupby('Geo_Country')['Tweet_content'].count().reset_index()\n",
        "    grouped_df['Geo_Country'] = grouped_df[grouped_df != 'None']\n",
        "    grouped_df.dropna(inplace=True)\n",
        "\n",
        "    ############################################################################\n",
        "    ax = grouped_df.plot(x=grouped_df.columns[0], y=grouped_df.columns[1])\n",
        "    ax.set_ylabel(\"Number of Tweets\")\n",
        "    ax.set_xlabel(\"Countries\")\n",
        "    plt.xticks(rotation=90)\n",
        "    plt.show()\n"
      ],
      "execution_count": 0,
      "outputs": []
    },
    {
      "cell_type": "code",
      "metadata": {
        "id": "dizzyIan4mEq",
        "colab_type": "code",
        "colab": {
          "base_uri": "https://localhost:8080/",
          "height": 442
        },
        "outputId": "275be60a-a6ff-4bfa-8d02-1a04c38a021a"
      },
      "source": [
        "# Plot graph of number of tweets vs countries\n",
        "plot_tweet_count_countries(tweet_info_country_merge_df)\n"
      ],
      "execution_count": 62,
      "outputs": [
        {
          "output_type": "stream",
          "text": [
            "/usr/local/lib/python3.6/dist-packages/pandas/core/ops/array_ops.py:253: FutureWarning: elementwise comparison failed; returning scalar instead, but in the future will perform elementwise comparison\n",
            "  res_values = method(rvalues)\n"
          ],
          "name": "stderr"
        },
        {
          "output_type": "display_data",
          "data": {
            "image/png": "[encoded data removed]",
            "text/plain": [
              "<Figure size 432x288 with 1 Axes>"
            ]
          },
          "metadata": {
            "tags": [],
            "needs_background": "light"
          }
        }
      ]
    }
  ]
}