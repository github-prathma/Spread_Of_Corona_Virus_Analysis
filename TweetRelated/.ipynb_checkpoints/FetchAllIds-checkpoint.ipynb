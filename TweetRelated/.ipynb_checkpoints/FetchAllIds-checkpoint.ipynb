{
 "cells": [
  {
   "cell_type": "code",
   "execution_count": null,
   "metadata": {},
   "outputs": [],
   "source": [
    "from pathlib import Path\n",
    "\n",
    "path1 = Path(\"COVID-19-TweetIDs-samples/by_hour/2020-01\")\n",
    "path2 = Path(\"COVID-19-TweetIDs-samples/by_hour/2020-02\")\n",
    "path3 = Path(\"COVID-19-TweetIDs-samples/by_hour/2020-03\")\n",
    "\n",
    "all_date_files = [p for p in path1.iterdir()] + \\\n",
    "    [p for p in path2.iterdir()] + [p for p in path3.iterdir()]\n",
    "data = \"\"\n",
    "AllIds = set()\n",
    "dayNum = 0\n",
    "for p in all_date_files:\n",
    "    with open(p, 'r') as file:\n",
    "        data = file.read().replace('\\n', ' ')\n",
    "        currentIds = data.split(\" \")\n",
    "        for Id in currentIds:\n",
    "            if Id not in AllIds:\n",
    "                AllIds.add(Id)\n",
    "\n",
    "AllIDs = list(AllIds)\n",
    "f = open(\"SamplingTweetID.txt\", \"w+\")\n",
    "for val in AllIDs:\n",
    "    f.write(val + \"\\n\")\n",
    "f.close()"
   ]
  }
 ],
 "metadata": {
  "kernelspec": {
   "display_name": "Python 3",
   "language": "python",
   "name": "python3"
  },
  "language_info": {
   "codemirror_mode": {
    "name": "ipython",
    "version": 3
   },
   "file_extension": ".py",
   "mimetype": "text/x-python",
   "name": "python",
   "nbconvert_exporter": "python",
   "pygments_lexer": "ipython3",
   "version": "3.7.2"
  }
 },
 "nbformat": 4,
 "nbformat_minor": 2
}
