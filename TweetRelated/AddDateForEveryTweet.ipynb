{
 "cells": [
  {
   "cell_type": "code",
   "execution_count": 18,
   "metadata": {},
   "outputs": [],
   "source": [
    "#m/dd/yy\n",
    "\n",
    "from datetime import datetime\n",
    "import numpy as np\n",
    "import pandas as pd\n",
    "import csv"
   ]
  },
  {
   "cell_type": "code",
   "execution_count": 98,
   "metadata": {},
   "outputs": [],
   "source": [
    "def addDayDateColumn():\n",
    "    df = pd.read_csv(\"NewTweetInfo.csv\")\n",
    "    \n",
    "    df['date'] = pd.to_datetime(df['Tweet_time'].astype(str), errors='coerce')\n",
    "    df['date'] = pd.to_datetime(df['date'])\n",
    "    df['date'] = df['date'].dt.strftime('%m/%d/%Y') #changes datetime format to object(string)\n",
    "    df['date'] = pd.to_datetime(df['date'], format='%m/%d/%Y', errors='coerce')\n",
    "    return df"
   ]
  },
  {
   "cell_type": "code",
   "execution_count": 99,
   "metadata": {},
   "outputs": [],
   "source": [
    "# function commented to avoid repetitive append of column in dataframe\n",
    "# refer CleanedTweetsInfo.csv for cleaned data with date column\n",
    "# addedColumnDataframe = addDayDateColumn() "
   ]
  },
  {
   "cell_type": "code",
   "execution_count": null,
   "metadata": {},
   "outputs": [],
   "source": [
    "addedColumnDataframe.to_csv('CleanedTweetsInfo.csv')"
   ]
  }
 ],
 "metadata": {
  "kernelspec": {
   "display_name": "Python 3",
   "language": "python",
   "name": "python3"
  },
  "language_info": {
   "codemirror_mode": {
    "name": "ipython",
    "version": 3
   },
   "file_extension": ".py",
   "mimetype": "text/x-python",
   "name": "python",
   "nbconvert_exporter": "python",
   "pygments_lexer": "ipython3",
   "version": "3.7.5"
  }
 },
 "nbformat": 4,
 "nbformat_minor": 2
}
